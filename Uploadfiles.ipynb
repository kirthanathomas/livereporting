{
 "cells": [
  {
   "cell_type": "code",
   "execution_count": null,
   "metadata": {},
   "outputs": [],
   "source": [
    "import base64\n",
    "import io\n",
    "import dash\n",
    "from dash.dependencies import Input, Output, State\n",
    "import dash_core_components as dcc\n",
    "import dash_html_components as html\n",
    "import dash_table\n",
    "import pandas as pd\n",
    "\n",
    "external_stylesheets = ['https://codepen.io/chriddyp/pen/bWLwgP.css']\n",
    "\n",
    "app = dash.Dash(external_stylesheets=external_stylesheets)\n",
    "\n",
    "app.layout = html.Div([\n",
    "    dcc.Upload(\n",
    "        id='datatable-upload',\n",
    "        children=html.Div([\n",
    "            'Drag and Drop or ',\n",
    "            html.A('Select Files')\n",
    "        ]),\n",
    "        style={\n",
    "            'width': '100%', 'height': '60px', 'lineHeight': '60px',\n",
    "            'borderWidth': '1px', 'borderStyle': 'dashed',\n",
    "            'borderRadius': '5px', 'textAlign': 'center', 'margin': '10px'\n",
    "        },\n",
    "    ),\n",
    "    dash_table.DataTable(id='datatable-upload-container'),\n",
    "    dcc.Graph(id='datatable-upload-graph')\n",
    "])\n",
    "\n",
    "\n",
    "def parse_contents(contents, filename):\n",
    "    content_type, content_string = contents.split(',')\n",
    "    decoded = base64.b64decode(content_string)\n",
    "    if 'csv' in filename:\n",
    "        # Assume that the user uploaded a CSV file\n",
    "        return pd.read_csv(\n",
    "            io.StringIO(decoded.decode('utf-8')))\n",
    "    elif 'xls' in filename:\n",
    "        # Assume that the user uploaded an excel file\n",
    "        return pd.read_excel(io.BytesIO(decoded))\n",
    "\n",
    "\n",
    "@app.callback(Output('datatable-upload-container', 'data'),\n",
    "              [Input('datatable-upload', 'contents')],\n",
    "              [State('datatable-upload', 'filename')])\n",
    "def update_output(contents, filename):\n",
    "    if contents is None:\n",
    "        return [{}]\n",
    "    df = parse_contents(contents, filename)\n",
    "    return df.to_dict('records')\n",
    "\n",
    "\n",
    "@app.callback(Output('datatable-upload-graph', 'figure'),\n",
    "              [Input('datatable-upload-container', 'data')])\n",
    "def display_graph(rows):\n",
    "    df = pd.DataFrame(rows)\n",
    "    return {\n",
    "        'data': [{\n",
    "            'x': df[df.columns[0]],\n",
    "            'y': df[df.columns[1]],\n",
    "            'type': 'Bar'\n",
    "        }]\n",
    "    }\n",
    "app.component_suites = [\n",
    "    'dash_html_components',\n",
    "    'dash_core_components'\n",
    "]\n",
    "app.server.run()\n"
   ]
  },
  {
   "cell_type": "code",
   "execution_count": null,
   "metadata": {},
   "outputs": [],
   "source": [
    "\n"
   ]
  },
  {
   "cell_type": "code",
   "execution_count": null,
   "metadata": {},
   "outputs": [],
   "source": []
  },
  {
   "cell_type": "code",
   "execution_count": null,
   "metadata": {},
   "outputs": [],
   "source": []
  },
  {
   "cell_type": "code",
   "execution_count": null,
   "metadata": {},
   "outputs": [],
   "source": []
  },
  {
   "cell_type": "code",
   "execution_count": null,
   "metadata": {},
   "outputs": [],
   "source": []
  }
 ],
 "metadata": {
  "kernelspec": {
   "display_name": "Python 3",
   "language": "python",
   "name": "python3"
  },
  "language_info": {
   "codemirror_mode": {
    "name": "ipython",
    "version": 3
   },
   "file_extension": ".py",
   "mimetype": "text/x-python",
   "name": "python",
   "nbconvert_exporter": "python",
   "pygments_lexer": "ipython3",
   "version": "3.7.1"
  }
 },
 "nbformat": 4,
 "nbformat_minor": 2
}
